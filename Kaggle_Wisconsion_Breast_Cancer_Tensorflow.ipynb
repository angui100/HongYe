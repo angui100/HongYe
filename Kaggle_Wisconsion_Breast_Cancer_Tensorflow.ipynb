{
  "nbformat": 4,
  "nbformat_minor": 0,
  "metadata": {
    "colab": {
      "name": "Kaggle_Wisconsion_Breast_Cancer_Tensorflow.ipynb",
      "provenance": [],
      "authorship_tag": "ABX9TyMxGrvgG5DF6RlGPKsiOfw4",
      "include_colab_link": true
    },
    "kernelspec": {
      "name": "python3",
      "display_name": "Python 3"
    }
  },
  "cells": [
    {
      "cell_type": "markdown",
      "metadata": {
        "id": "view-in-github",
        "colab_type": "text"
      },
      "source": [
        "<a href=\"https://colab.research.google.com/github/angui100/HongYe/blob/master/Kaggle_Wisconsion_Breast_Cancer_Tensorflow.ipynb\" target=\"_parent\"><img src=\"https://colab.research.google.com/assets/colab-badge.svg\" alt=\"Open In Colab\"/></a>"
      ]
    },
    {
      "cell_type": "code",
      "metadata": {
        "id": "o9ecqynGaAal",
        "colab_type": "code",
        "colab": {
          "base_uri": "https://localhost:8080/",
          "height": 63
        },
        "outputId": "c98550ac-533f-46be-c014-accd3c59da3b"
      },
      "source": [
        "%matplotlib inline\n",
        "import tensorflow as tf\n",
        "import pandas as pd\n",
        "from sklearn.utils import shuffle\n",
        "import matplotlib.gridspec as gridspec\n",
        "import seaborn as sns\n",
        "import matplotlib.pyplot as plt"
      ],
      "execution_count": 1,
      "outputs": [
        {
          "output_type": "display_data",
          "data": {
            "text/html": [
              "<p style=\"color: red;\">\n",
              "The default version of TensorFlow in Colab will soon switch to TensorFlow 2.x.<br>\n",
              "We recommend you <a href=\"https://www.tensorflow.org/guide/migrate\" target=\"_blank\">upgrade</a> now \n",
              "or ensure your notebook will continue to use TensorFlow 1.x via the <code>%tensorflow_version 1.x</code> magic:\n",
              "<a href=\"https://colab.research.google.com/notebooks/tensorflow_version.ipynb\" target=\"_blank\">more info</a>.</p>\n"
            ],
            "text/plain": [
              "<IPython.core.display.HTML object>"
            ]
          },
          "metadata": {
            "tags": []
          }
        }
      ]
    },
    {
      "cell_type": "code",
      "metadata": {
        "id": "KEnIlKaAaN09",
        "colab_type": "code",
        "colab": {
          "base_uri": "https://localhost:8080/",
          "height": 122
        },
        "outputId": "ed8b8ae6-b6ee-44bb-fc47-3b82dea03413"
      },
      "source": [
        "#prepare for data file\n",
        "from google.colab import drive\n",
        "drive.mount('/content/drive')"
      ],
      "execution_count": 2,
      "outputs": [
        {
          "output_type": "stream",
          "text": [
            "Go to this URL in a browser: https://accounts.google.com/o/oauth2/auth?client_id=947318989803-6bn6qk8qdgf4n4g3pfee6491hc0brc4i.apps.googleusercontent.com&redirect_uri=urn%3aietf%3awg%3aoauth%3a2.0%3aoob&response_type=code&scope=email%20https%3a%2f%2fwww.googleapis.com%2fauth%2fdocs.test%20https%3a%2f%2fwww.googleapis.com%2fauth%2fdrive%20https%3a%2f%2fwww.googleapis.com%2fauth%2fdrive.photos.readonly%20https%3a%2f%2fwww.googleapis.com%2fauth%2fpeopleapi.readonly\n",
            "\n",
            "Enter your authorization code:\n",
            "··········\n",
            "Mounted at /content/drive\n"
          ],
          "name": "stdout"
        }
      ]
    },
    {
      "cell_type": "code",
      "metadata": {
        "id": "42UwhSwCbuaN",
        "colab_type": "code",
        "colab": {}
      },
      "source": [
        "train_filename = '/content/drive/My Drive/dataset/wdbc.data'"
      ],
      "execution_count": 0,
      "outputs": []
    },
    {
      "cell_type": "code",
      "metadata": {
        "id": "JJerwvrDb7hj",
        "colab_type": "code",
        "colab": {}
      },
      "source": [
        "idKey = \"id\"\n",
        "diagnosisKey = \"diagnosis\"\n",
        "radiusMeanKey = \"radius_mean\"\n",
        "textureMeanKey = \"texture_mean\"\n",
        "perimeterMeanKey = \"perimeter_mean\"\n",
        "areaMeanKey = \"area_mean\"\n",
        "smoothnessMeanKey = \"smoothness_mean\"\n",
        "compactnessMeanKey = \"compactness_mean\"\n",
        "concavityMeanKey = \"concavity_mean\"\n",
        "concavePointsMeanKey = \"concave points_mean\"\n",
        "symmetryMeanKey = \"symmetry_mean\"\n",
        "fractalDimensionMean = \"fractal_dimension_mean\"\n",
        "radiusSeKey = \"radius_se\"\n",
        "textureSeKey = \"texture_se\"\n",
        "perimeterSeKey = \"perimeter_se\"\n",
        "areaSeKey = \"area_se\"\n",
        "smoothnessSeKey = \"smoothness_se\"\n",
        "compactnessSeKey = \"compactness_se\"\n",
        "concavitySeKey = \"concavity_se\"\n",
        "concavePointsSeKey = \"concave points_se\"\n",
        "symmetrySeKey = \"symmetry_se\"\n",
        "fractalDimensionSeKey = \"fractal_dimension_se\"\n",
        "radiusWorstKey = \"radius_worst\"\n",
        "textureWorstKey = \"texture_worst\"\n",
        "perimeterWorstKey = \"perimeter_worst\"\n",
        "areaWorstKey = \"area_worst\"\n",
        "smoothnessWorstKey = \"smoothness_worst\"\n",
        "compactnessWorstKey = \"compactness_worst\"\n",
        "concavityWorstKey = \"concavity_worst\"\n",
        "concavePointsWorstKey = \"concave points_worst\"\n",
        "symmetryWorstKey = \"symmetry_worst\"\n",
        "fractalDimensionWorstKey = \"fractal_dimension_worst\""
      ],
      "execution_count": 0,
      "outputs": []
    },
    {
      "cell_type": "code",
      "metadata": {
        "id": "bTrVCRD_cAO_",
        "colab_type": "code",
        "colab": {}
      },
      "source": [
        "train_columns = [idKey, diagnosisKey, radiusMeanKey, textureMeanKey, perimeterMeanKey, areaMeanKey, smoothnessMeanKey, compactnessMeanKey, concavityMeanKey, concavePointsMeanKey, symmetryMeanKey, fractalDimensionMean, radiusSeKey, textureSeKey, perimeterSeKey, areaSeKey, smoothnessSeKey, compactnessSeKey, concavitySeKey, concavePointsSeKey, symmetrySeKey, fractalDimensionSeKey, radiusWorstKey, textureWorstKey, perimeterWorstKey, areaWorstKey, smoothnessWorstKey, compactnessWorstKey, concavityWorstKey, concavePointsWorstKey, symmetryWorstKey, fractalDimensionWorstKey]"
      ],
      "execution_count": 0,
      "outputs": []
    },
    {
      "cell_type": "code",
      "metadata": {
        "id": "nUqoYUENcFrs",
        "colab_type": "code",
        "colab": {}
      },
      "source": [
        "def get_train_data():\n",
        "    df = pd.read_csv(train_filename, names= train_columns, delimiter=',', skiprows=1)\n",
        "    return df"
      ],
      "execution_count": 0,
      "outputs": []
    },
    {
      "cell_type": "code",
      "metadata": {
        "id": "mM2PPCb5cLy7",
        "colab_type": "code",
        "colab": {}
      },
      "source": [
        "train_data = get_train_data()"
      ],
      "execution_count": 0,
      "outputs": []
    },
    {
      "cell_type": "code",
      "metadata": {
        "id": "sHOSqzHkcPiD",
        "colab_type": "code",
        "colab": {
          "base_uri": "https://localhost:8080/",
          "height": 241
        },
        "outputId": "0592bddb-fd0a-4b2b-cb74-36f1328f60f1"
      },
      "source": [
        "train_data.head()"
      ],
      "execution_count": 10,
      "outputs": [
        {
          "output_type": "execute_result",
          "data": {
            "text/html": [
              "<div>\n",
              "<style scoped>\n",
              "    .dataframe tbody tr th:only-of-type {\n",
              "        vertical-align: middle;\n",
              "    }\n",
              "\n",
              "    .dataframe tbody tr th {\n",
              "        vertical-align: top;\n",
              "    }\n",
              "\n",
              "    .dataframe thead th {\n",
              "        text-align: right;\n",
              "    }\n",
              "</style>\n",
              "<table border=\"1\" class=\"dataframe\">\n",
              "  <thead>\n",
              "    <tr style=\"text-align: right;\">\n",
              "      <th></th>\n",
              "      <th>id</th>\n",
              "      <th>diagnosis</th>\n",
              "      <th>radius_mean</th>\n",
              "      <th>texture_mean</th>\n",
              "      <th>perimeter_mean</th>\n",
              "      <th>area_mean</th>\n",
              "      <th>smoothness_mean</th>\n",
              "      <th>compactness_mean</th>\n",
              "      <th>concavity_mean</th>\n",
              "      <th>concave points_mean</th>\n",
              "      <th>symmetry_mean</th>\n",
              "      <th>fractal_dimension_mean</th>\n",
              "      <th>radius_se</th>\n",
              "      <th>texture_se</th>\n",
              "      <th>perimeter_se</th>\n",
              "      <th>area_se</th>\n",
              "      <th>smoothness_se</th>\n",
              "      <th>compactness_se</th>\n",
              "      <th>concavity_se</th>\n",
              "      <th>concave points_se</th>\n",
              "      <th>symmetry_se</th>\n",
              "      <th>fractal_dimension_se</th>\n",
              "      <th>radius_worst</th>\n",
              "      <th>texture_worst</th>\n",
              "      <th>perimeter_worst</th>\n",
              "      <th>area_worst</th>\n",
              "      <th>smoothness_worst</th>\n",
              "      <th>compactness_worst</th>\n",
              "      <th>concavity_worst</th>\n",
              "      <th>concave points_worst</th>\n",
              "      <th>symmetry_worst</th>\n",
              "      <th>fractal_dimension_worst</th>\n",
              "    </tr>\n",
              "  </thead>\n",
              "  <tbody>\n",
              "    <tr>\n",
              "      <th>0</th>\n",
              "      <td>842517</td>\n",
              "      <td>M</td>\n",
              "      <td>20.57</td>\n",
              "      <td>17.77</td>\n",
              "      <td>132.90</td>\n",
              "      <td>1326.0</td>\n",
              "      <td>0.08474</td>\n",
              "      <td>0.07864</td>\n",
              "      <td>0.0869</td>\n",
              "      <td>0.07017</td>\n",
              "      <td>0.1812</td>\n",
              "      <td>0.05667</td>\n",
              "      <td>0.5435</td>\n",
              "      <td>0.7339</td>\n",
              "      <td>3.398</td>\n",
              "      <td>74.08</td>\n",
              "      <td>0.005225</td>\n",
              "      <td>0.01308</td>\n",
              "      <td>0.01860</td>\n",
              "      <td>0.01340</td>\n",
              "      <td>0.01389</td>\n",
              "      <td>0.003532</td>\n",
              "      <td>24.99</td>\n",
              "      <td>23.41</td>\n",
              "      <td>158.80</td>\n",
              "      <td>1956.0</td>\n",
              "      <td>0.1238</td>\n",
              "      <td>0.1866</td>\n",
              "      <td>0.2416</td>\n",
              "      <td>0.1860</td>\n",
              "      <td>0.2750</td>\n",
              "      <td>0.08902</td>\n",
              "    </tr>\n",
              "    <tr>\n",
              "      <th>1</th>\n",
              "      <td>84300903</td>\n",
              "      <td>M</td>\n",
              "      <td>19.69</td>\n",
              "      <td>21.25</td>\n",
              "      <td>130.00</td>\n",
              "      <td>1203.0</td>\n",
              "      <td>0.10960</td>\n",
              "      <td>0.15990</td>\n",
              "      <td>0.1974</td>\n",
              "      <td>0.12790</td>\n",
              "      <td>0.2069</td>\n",
              "      <td>0.05999</td>\n",
              "      <td>0.7456</td>\n",
              "      <td>0.7869</td>\n",
              "      <td>4.585</td>\n",
              "      <td>94.03</td>\n",
              "      <td>0.006150</td>\n",
              "      <td>0.04006</td>\n",
              "      <td>0.03832</td>\n",
              "      <td>0.02058</td>\n",
              "      <td>0.02250</td>\n",
              "      <td>0.004571</td>\n",
              "      <td>23.57</td>\n",
              "      <td>25.53</td>\n",
              "      <td>152.50</td>\n",
              "      <td>1709.0</td>\n",
              "      <td>0.1444</td>\n",
              "      <td>0.4245</td>\n",
              "      <td>0.4504</td>\n",
              "      <td>0.2430</td>\n",
              "      <td>0.3613</td>\n",
              "      <td>0.08758</td>\n",
              "    </tr>\n",
              "    <tr>\n",
              "      <th>2</th>\n",
              "      <td>84348301</td>\n",
              "      <td>M</td>\n",
              "      <td>11.42</td>\n",
              "      <td>20.38</td>\n",
              "      <td>77.58</td>\n",
              "      <td>386.1</td>\n",
              "      <td>0.14250</td>\n",
              "      <td>0.28390</td>\n",
              "      <td>0.2414</td>\n",
              "      <td>0.10520</td>\n",
              "      <td>0.2597</td>\n",
              "      <td>0.09744</td>\n",
              "      <td>0.4956</td>\n",
              "      <td>1.1560</td>\n",
              "      <td>3.445</td>\n",
              "      <td>27.23</td>\n",
              "      <td>0.009110</td>\n",
              "      <td>0.07458</td>\n",
              "      <td>0.05661</td>\n",
              "      <td>0.01867</td>\n",
              "      <td>0.05963</td>\n",
              "      <td>0.009208</td>\n",
              "      <td>14.91</td>\n",
              "      <td>26.50</td>\n",
              "      <td>98.87</td>\n",
              "      <td>567.7</td>\n",
              "      <td>0.2098</td>\n",
              "      <td>0.8663</td>\n",
              "      <td>0.6869</td>\n",
              "      <td>0.2575</td>\n",
              "      <td>0.6638</td>\n",
              "      <td>0.17300</td>\n",
              "    </tr>\n",
              "    <tr>\n",
              "      <th>3</th>\n",
              "      <td>84358402</td>\n",
              "      <td>M</td>\n",
              "      <td>20.29</td>\n",
              "      <td>14.34</td>\n",
              "      <td>135.10</td>\n",
              "      <td>1297.0</td>\n",
              "      <td>0.10030</td>\n",
              "      <td>0.13280</td>\n",
              "      <td>0.1980</td>\n",
              "      <td>0.10430</td>\n",
              "      <td>0.1809</td>\n",
              "      <td>0.05883</td>\n",
              "      <td>0.7572</td>\n",
              "      <td>0.7813</td>\n",
              "      <td>5.438</td>\n",
              "      <td>94.44</td>\n",
              "      <td>0.011490</td>\n",
              "      <td>0.02461</td>\n",
              "      <td>0.05688</td>\n",
              "      <td>0.01885</td>\n",
              "      <td>0.01756</td>\n",
              "      <td>0.005115</td>\n",
              "      <td>22.54</td>\n",
              "      <td>16.67</td>\n",
              "      <td>152.20</td>\n",
              "      <td>1575.0</td>\n",
              "      <td>0.1374</td>\n",
              "      <td>0.2050</td>\n",
              "      <td>0.4000</td>\n",
              "      <td>0.1625</td>\n",
              "      <td>0.2364</td>\n",
              "      <td>0.07678</td>\n",
              "    </tr>\n",
              "    <tr>\n",
              "      <th>4</th>\n",
              "      <td>843786</td>\n",
              "      <td>M</td>\n",
              "      <td>12.45</td>\n",
              "      <td>15.70</td>\n",
              "      <td>82.57</td>\n",
              "      <td>477.1</td>\n",
              "      <td>0.12780</td>\n",
              "      <td>0.17000</td>\n",
              "      <td>0.1578</td>\n",
              "      <td>0.08089</td>\n",
              "      <td>0.2087</td>\n",
              "      <td>0.07613</td>\n",
              "      <td>0.3345</td>\n",
              "      <td>0.8902</td>\n",
              "      <td>2.217</td>\n",
              "      <td>27.19</td>\n",
              "      <td>0.007510</td>\n",
              "      <td>0.03345</td>\n",
              "      <td>0.03672</td>\n",
              "      <td>0.01137</td>\n",
              "      <td>0.02165</td>\n",
              "      <td>0.005082</td>\n",
              "      <td>15.47</td>\n",
              "      <td>23.75</td>\n",
              "      <td>103.40</td>\n",
              "      <td>741.6</td>\n",
              "      <td>0.1791</td>\n",
              "      <td>0.5249</td>\n",
              "      <td>0.5355</td>\n",
              "      <td>0.1741</td>\n",
              "      <td>0.3985</td>\n",
              "      <td>0.12440</td>\n",
              "    </tr>\n",
              "  </tbody>\n",
              "</table>\n",
              "</div>"
            ],
            "text/plain": [
              "         id diagnosis  ...  symmetry_worst  fractal_dimension_worst\n",
              "0    842517         M  ...          0.2750                  0.08902\n",
              "1  84300903         M  ...          0.3613                  0.08758\n",
              "2  84348301         M  ...          0.6638                  0.17300\n",
              "3  84358402         M  ...          0.2364                  0.07678\n",
              "4    843786         M  ...          0.3985                  0.12440\n",
              "\n",
              "[5 rows x 32 columns]"
            ]
          },
          "metadata": {
            "tags": []
          },
          "execution_count": 10
        }
      ]
    },
    {
      "cell_type": "code",
      "metadata": {
        "id": "Jhrh1l10ciBe",
        "colab_type": "code",
        "colab": {
          "base_uri": "https://localhost:8080/",
          "height": 334
        },
        "outputId": "dd260ff1-7e13-45d2-c784-3b2c914bb61f"
      },
      "source": [
        "train_data.describe()"
      ],
      "execution_count": 11,
      "outputs": [
        {
          "output_type": "execute_result",
          "data": {
            "text/html": [
              "<div>\n",
              "<style scoped>\n",
              "    .dataframe tbody tr th:only-of-type {\n",
              "        vertical-align: middle;\n",
              "    }\n",
              "\n",
              "    .dataframe tbody tr th {\n",
              "        vertical-align: top;\n",
              "    }\n",
              "\n",
              "    .dataframe thead th {\n",
              "        text-align: right;\n",
              "    }\n",
              "</style>\n",
              "<table border=\"1\" class=\"dataframe\">\n",
              "  <thead>\n",
              "    <tr style=\"text-align: right;\">\n",
              "      <th></th>\n",
              "      <th>id</th>\n",
              "      <th>radius_mean</th>\n",
              "      <th>texture_mean</th>\n",
              "      <th>perimeter_mean</th>\n",
              "      <th>area_mean</th>\n",
              "      <th>smoothness_mean</th>\n",
              "      <th>compactness_mean</th>\n",
              "      <th>concavity_mean</th>\n",
              "      <th>concave points_mean</th>\n",
              "      <th>symmetry_mean</th>\n",
              "      <th>fractal_dimension_mean</th>\n",
              "      <th>radius_se</th>\n",
              "      <th>texture_se</th>\n",
              "      <th>perimeter_se</th>\n",
              "      <th>area_se</th>\n",
              "      <th>smoothness_se</th>\n",
              "      <th>compactness_se</th>\n",
              "      <th>concavity_se</th>\n",
              "      <th>concave points_se</th>\n",
              "      <th>symmetry_se</th>\n",
              "      <th>fractal_dimension_se</th>\n",
              "      <th>radius_worst</th>\n",
              "      <th>texture_worst</th>\n",
              "      <th>perimeter_worst</th>\n",
              "      <th>area_worst</th>\n",
              "      <th>smoothness_worst</th>\n",
              "      <th>compactness_worst</th>\n",
              "      <th>concavity_worst</th>\n",
              "      <th>concave points_worst</th>\n",
              "      <th>symmetry_worst</th>\n",
              "      <th>fractal_dimension_worst</th>\n",
              "    </tr>\n",
              "  </thead>\n",
              "  <tbody>\n",
              "    <tr>\n",
              "      <th>count</th>\n",
              "      <td>5.680000e+02</td>\n",
              "      <td>568.000000</td>\n",
              "      <td>568.000000</td>\n",
              "      <td>568.000000</td>\n",
              "      <td>568.000000</td>\n",
              "      <td>568.000000</td>\n",
              "      <td>568.000000</td>\n",
              "      <td>568.000000</td>\n",
              "      <td>568.000000</td>\n",
              "      <td>568.000000</td>\n",
              "      <td>568.000000</td>\n",
              "      <td>568.000000</td>\n",
              "      <td>568.000000</td>\n",
              "      <td>568.000000</td>\n",
              "      <td>568.000000</td>\n",
              "      <td>568.000000</td>\n",
              "      <td>568.000000</td>\n",
              "      <td>568.000000</td>\n",
              "      <td>568.000000</td>\n",
              "      <td>568.000000</td>\n",
              "      <td>568.000000</td>\n",
              "      <td>568.00000</td>\n",
              "      <td>568.000000</td>\n",
              "      <td>568.000000</td>\n",
              "      <td>568.000000</td>\n",
              "      <td>568.000000</td>\n",
              "      <td>568.000000</td>\n",
              "      <td>568.000000</td>\n",
              "      <td>568.000000</td>\n",
              "      <td>568.000000</td>\n",
              "      <td>568.000000</td>\n",
              "    </tr>\n",
              "    <tr>\n",
              "      <th>mean</th>\n",
              "      <td>3.042382e+07</td>\n",
              "      <td>14.120491</td>\n",
              "      <td>19.305335</td>\n",
              "      <td>91.914754</td>\n",
              "      <td>654.279754</td>\n",
              "      <td>0.096321</td>\n",
              "      <td>0.104036</td>\n",
              "      <td>0.088427</td>\n",
              "      <td>0.048746</td>\n",
              "      <td>0.181055</td>\n",
              "      <td>0.062770</td>\n",
              "      <td>0.403958</td>\n",
              "      <td>1.217402</td>\n",
              "      <td>2.855984</td>\n",
              "      <td>40.138025</td>\n",
              "      <td>0.007042</td>\n",
              "      <td>0.025437</td>\n",
              "      <td>0.031855</td>\n",
              "      <td>0.011789</td>\n",
              "      <td>0.020526</td>\n",
              "      <td>0.003791</td>\n",
              "      <td>16.25315</td>\n",
              "      <td>25.691919</td>\n",
              "      <td>107.125053</td>\n",
              "      <td>878.578873</td>\n",
              "      <td>0.132316</td>\n",
              "      <td>0.253541</td>\n",
              "      <td>0.271414</td>\n",
              "      <td>0.114341</td>\n",
              "      <td>0.289776</td>\n",
              "      <td>0.083884</td>\n",
              "    </tr>\n",
              "    <tr>\n",
              "      <th>std</th>\n",
              "      <td>1.251246e+08</td>\n",
              "      <td>3.523416</td>\n",
              "      <td>4.288506</td>\n",
              "      <td>24.285848</td>\n",
              "      <td>351.923751</td>\n",
              "      <td>0.014046</td>\n",
              "      <td>0.052355</td>\n",
              "      <td>0.079294</td>\n",
              "      <td>0.038617</td>\n",
              "      <td>0.027319</td>\n",
              "      <td>0.007035</td>\n",
              "      <td>0.276038</td>\n",
              "      <td>0.551979</td>\n",
              "      <td>2.009288</td>\n",
              "      <td>45.282406</td>\n",
              "      <td>0.003005</td>\n",
              "      <td>0.017897</td>\n",
              "      <td>0.030199</td>\n",
              "      <td>0.006173</td>\n",
              "      <td>0.008264</td>\n",
              "      <td>0.002646</td>\n",
              "      <td>4.82232</td>\n",
              "      <td>6.141662</td>\n",
              "      <td>33.474687</td>\n",
              "      <td>567.846267</td>\n",
              "      <td>0.022818</td>\n",
              "      <td>0.156523</td>\n",
              "      <td>0.207989</td>\n",
              "      <td>0.065484</td>\n",
              "      <td>0.061508</td>\n",
              "      <td>0.018017</td>\n",
              "    </tr>\n",
              "    <tr>\n",
              "      <th>min</th>\n",
              "      <td>8.670000e+03</td>\n",
              "      <td>6.981000</td>\n",
              "      <td>9.710000</td>\n",
              "      <td>43.790000</td>\n",
              "      <td>143.500000</td>\n",
              "      <td>0.052630</td>\n",
              "      <td>0.019380</td>\n",
              "      <td>0.000000</td>\n",
              "      <td>0.000000</td>\n",
              "      <td>0.106000</td>\n",
              "      <td>0.049960</td>\n",
              "      <td>0.111500</td>\n",
              "      <td>0.360200</td>\n",
              "      <td>0.757000</td>\n",
              "      <td>6.802000</td>\n",
              "      <td>0.001713</td>\n",
              "      <td>0.002252</td>\n",
              "      <td>0.000000</td>\n",
              "      <td>0.000000</td>\n",
              "      <td>0.007882</td>\n",
              "      <td>0.000895</td>\n",
              "      <td>7.93000</td>\n",
              "      <td>12.020000</td>\n",
              "      <td>50.410000</td>\n",
              "      <td>185.200000</td>\n",
              "      <td>0.071170</td>\n",
              "      <td>0.027290</td>\n",
              "      <td>0.000000</td>\n",
              "      <td>0.000000</td>\n",
              "      <td>0.156500</td>\n",
              "      <td>0.055040</td>\n",
              "    </tr>\n",
              "    <tr>\n",
              "      <th>25%</th>\n",
              "      <td>8.692225e+05</td>\n",
              "      <td>11.697500</td>\n",
              "      <td>16.177500</td>\n",
              "      <td>75.135000</td>\n",
              "      <td>420.175000</td>\n",
              "      <td>0.086290</td>\n",
              "      <td>0.064815</td>\n",
              "      <td>0.029540</td>\n",
              "      <td>0.020310</td>\n",
              "      <td>0.161900</td>\n",
              "      <td>0.057697</td>\n",
              "      <td>0.232375</td>\n",
              "      <td>0.833150</td>\n",
              "      <td>1.605000</td>\n",
              "      <td>17.850000</td>\n",
              "      <td>0.005166</td>\n",
              "      <td>0.013048</td>\n",
              "      <td>0.015063</td>\n",
              "      <td>0.007634</td>\n",
              "      <td>0.015128</td>\n",
              "      <td>0.002244</td>\n",
              "      <td>13.01000</td>\n",
              "      <td>21.095000</td>\n",
              "      <td>84.102500</td>\n",
              "      <td>514.975000</td>\n",
              "      <td>0.116600</td>\n",
              "      <td>0.146900</td>\n",
              "      <td>0.114475</td>\n",
              "      <td>0.064730</td>\n",
              "      <td>0.250350</td>\n",
              "      <td>0.071412</td>\n",
              "    </tr>\n",
              "    <tr>\n",
              "      <th>50%</th>\n",
              "      <td>9.061570e+05</td>\n",
              "      <td>13.355000</td>\n",
              "      <td>18.855000</td>\n",
              "      <td>86.210000</td>\n",
              "      <td>548.750000</td>\n",
              "      <td>0.095865</td>\n",
              "      <td>0.092525</td>\n",
              "      <td>0.061400</td>\n",
              "      <td>0.033455</td>\n",
              "      <td>0.179200</td>\n",
              "      <td>0.061515</td>\n",
              "      <td>0.323950</td>\n",
              "      <td>1.109500</td>\n",
              "      <td>2.285500</td>\n",
              "      <td>24.485000</td>\n",
              "      <td>0.006374</td>\n",
              "      <td>0.020435</td>\n",
              "      <td>0.025875</td>\n",
              "      <td>0.010920</td>\n",
              "      <td>0.018725</td>\n",
              "      <td>0.003162</td>\n",
              "      <td>14.96500</td>\n",
              "      <td>25.425000</td>\n",
              "      <td>97.655000</td>\n",
              "      <td>685.550000</td>\n",
              "      <td>0.131300</td>\n",
              "      <td>0.211850</td>\n",
              "      <td>0.226550</td>\n",
              "      <td>0.099840</td>\n",
              "      <td>0.282050</td>\n",
              "      <td>0.080015</td>\n",
              "    </tr>\n",
              "    <tr>\n",
              "      <th>75%</th>\n",
              "      <td>8.825022e+06</td>\n",
              "      <td>15.780000</td>\n",
              "      <td>21.802500</td>\n",
              "      <td>103.875000</td>\n",
              "      <td>782.625000</td>\n",
              "      <td>0.105300</td>\n",
              "      <td>0.130400</td>\n",
              "      <td>0.129650</td>\n",
              "      <td>0.073730</td>\n",
              "      <td>0.195625</td>\n",
              "      <td>0.066120</td>\n",
              "      <td>0.477325</td>\n",
              "      <td>1.474250</td>\n",
              "      <td>3.336750</td>\n",
              "      <td>45.017500</td>\n",
              "      <td>0.008151</td>\n",
              "      <td>0.032217</td>\n",
              "      <td>0.041765</td>\n",
              "      <td>0.014710</td>\n",
              "      <td>0.023397</td>\n",
              "      <td>0.004526</td>\n",
              "      <td>18.76750</td>\n",
              "      <td>29.757500</td>\n",
              "      <td>125.175000</td>\n",
              "      <td>1073.500000</td>\n",
              "      <td>0.146000</td>\n",
              "      <td>0.337600</td>\n",
              "      <td>0.381400</td>\n",
              "      <td>0.161325</td>\n",
              "      <td>0.317675</td>\n",
              "      <td>0.092065</td>\n",
              "    </tr>\n",
              "    <tr>\n",
              "      <th>max</th>\n",
              "      <td>9.113205e+08</td>\n",
              "      <td>28.110000</td>\n",
              "      <td>39.280000</td>\n",
              "      <td>188.500000</td>\n",
              "      <td>2501.000000</td>\n",
              "      <td>0.163400</td>\n",
              "      <td>0.345400</td>\n",
              "      <td>0.426800</td>\n",
              "      <td>0.201200</td>\n",
              "      <td>0.304000</td>\n",
              "      <td>0.097440</td>\n",
              "      <td>2.873000</td>\n",
              "      <td>4.885000</td>\n",
              "      <td>21.980000</td>\n",
              "      <td>542.200000</td>\n",
              "      <td>0.031130</td>\n",
              "      <td>0.135400</td>\n",
              "      <td>0.396000</td>\n",
              "      <td>0.052790</td>\n",
              "      <td>0.078950</td>\n",
              "      <td>0.029840</td>\n",
              "      <td>36.04000</td>\n",
              "      <td>49.540000</td>\n",
              "      <td>251.200000</td>\n",
              "      <td>4254.000000</td>\n",
              "      <td>0.222600</td>\n",
              "      <td>1.058000</td>\n",
              "      <td>1.252000</td>\n",
              "      <td>0.291000</td>\n",
              "      <td>0.663800</td>\n",
              "      <td>0.207500</td>\n",
              "    </tr>\n",
              "  </tbody>\n",
              "</table>\n",
              "</div>"
            ],
            "text/plain": [
              "                 id  radius_mean  ...  symmetry_worst  fractal_dimension_worst\n",
              "count  5.680000e+02   568.000000  ...      568.000000               568.000000\n",
              "mean   3.042382e+07    14.120491  ...        0.289776                 0.083884\n",
              "std    1.251246e+08     3.523416  ...        0.061508                 0.018017\n",
              "min    8.670000e+03     6.981000  ...        0.156500                 0.055040\n",
              "25%    8.692225e+05    11.697500  ...        0.250350                 0.071412\n",
              "50%    9.061570e+05    13.355000  ...        0.282050                 0.080015\n",
              "75%    8.825022e+06    15.780000  ...        0.317675                 0.092065\n",
              "max    9.113205e+08    28.110000  ...        0.663800                 0.207500\n",
              "\n",
              "[8 rows x 31 columns]"
            ]
          },
          "metadata": {
            "tags": []
          },
          "execution_count": 11
        }
      ]
    },
    {
      "cell_type": "code",
      "metadata": {
        "id": "pGlmcNS1cpNc",
        "colab_type": "code",
        "colab": {
          "base_uri": "https://localhost:8080/",
          "height": 578
        },
        "outputId": "e99e1b66-b167-40f4-ac99-e7c851008234"
      },
      "source": [
        "train_data.isnull().sum()"
      ],
      "execution_count": 12,
      "outputs": [
        {
          "output_type": "execute_result",
          "data": {
            "text/plain": [
              "id                         0\n",
              "diagnosis                  0\n",
              "radius_mean                0\n",
              "texture_mean               0\n",
              "perimeter_mean             0\n",
              "area_mean                  0\n",
              "smoothness_mean            0\n",
              "compactness_mean           0\n",
              "concavity_mean             0\n",
              "concave points_mean        0\n",
              "symmetry_mean              0\n",
              "fractal_dimension_mean     0\n",
              "radius_se                  0\n",
              "texture_se                 0\n",
              "perimeter_se               0\n",
              "area_se                    0\n",
              "smoothness_se              0\n",
              "compactness_se             0\n",
              "concavity_se               0\n",
              "concave points_se          0\n",
              "symmetry_se                0\n",
              "fractal_dimension_se       0\n",
              "radius_worst               0\n",
              "texture_worst              0\n",
              "perimeter_worst            0\n",
              "area_worst                 0\n",
              "smoothness_worst           0\n",
              "compactness_worst          0\n",
              "concavity_worst            0\n",
              "concave points_worst       0\n",
              "symmetry_worst             0\n",
              "fractal_dimension_worst    0\n",
              "dtype: int64"
            ]
          },
          "metadata": {
            "tags": []
          },
          "execution_count": 12
        }
      ]
    },
    {
      "cell_type": "code",
      "metadata": {
        "id": "4N6YXrLccrLN",
        "colab_type": "code",
        "colab": {
          "base_uri": "https://localhost:8080/",
          "height": 374
        },
        "outputId": "c6c6ebee-83ac-4785-a654-979617f71360"
      },
      "source": [
        "print (\"Malignant\")\n",
        "print (train_data.area_mean[train_data.diagnosis == \"M\"].describe())\n",
        "print ()\n",
        "print (\"Benign\")\n",
        "print (train_data.area_mean[train_data.diagnosis == \"B\"].describe())"
      ],
      "execution_count": 13,
      "outputs": [
        {
          "output_type": "stream",
          "text": [
            "Malignant\n",
            "count     211.000000\n",
            "mean      978.269194\n",
            "std       368.809660\n",
            "min       361.600000\n",
            "25%       705.000000\n",
            "50%       930.900000\n",
            "75%      1204.500000\n",
            "max      2501.000000\n",
            "Name: area_mean, dtype: float64\n",
            "\n",
            "Benign\n",
            "count    357.000000\n",
            "mean     462.790196\n",
            "std      134.287118\n",
            "min      143.500000\n",
            "25%      378.200000\n",
            "50%      458.400000\n",
            "75%      551.100000\n",
            "max      992.100000\n",
            "Name: area_mean, dtype: float64\n"
          ],
          "name": "stdout"
        }
      ]
    },
    {
      "cell_type": "code",
      "metadata": {
        "id": "IL7cjyZicxBV",
        "colab_type": "code",
        "colab": {
          "base_uri": "https://localhost:8080/",
          "height": 295
        },
        "outputId": "7ba1c7f7-e94f-4b82-825c-c6720b758409"
      },
      "source": [
        "f, (ax1, ax2) = plt.subplots(2, 1, sharex=True, figsize=(12,4))\n",
        "\n",
        "bins = 50\n",
        "\n",
        "ax1.hist(train_data.area_mean[train_data.diagnosis == \"M\"], bins = bins)\n",
        "ax1.set_title('Malignant')\n",
        "\n",
        "ax2.hist(train_data.area_mean[train_data.diagnosis == \"B\"], bins = bins)\n",
        "ax2.set_title('Benign')\n",
        "\n",
        "plt.xlabel('Area Mean')\n",
        "plt.ylabel('Number of Diagnosis')\n",
        "plt.show()"
      ],
      "execution_count": 14,
      "outputs": [
        {
          "output_type": "display_data",
          "data": {
            "image/png": "[encoded data removed]",
            "text/plain": [
              "<Figure size 864x288 with 2 Axes>"
            ]
          },
          "metadata": {
            "tags": []
          }
        }
      ]
    },
    {
      "cell_type": "code",
      "metadata": {
        "id": "n9SueFDBc162",
        "colab_type": "code",
        "colab": {
          "base_uri": "https://localhost:8080/",
          "height": 374
        },
        "outputId": "689cdde7-871d-4a6f-c398-ecdf482fdd4f"
      },
      "source": [
        "print (\"Malignant\")\n",
        "print (train_data.area_worst[train_data.diagnosis == \"M\"].describe())\n",
        "print ()\n",
        "print (\"Benign\")\n",
        "print (train_data.area_worst[train_data.diagnosis == \"B\"].describe())"
      ],
      "execution_count": 15,
      "outputs": [
        {
          "output_type": "stream",
          "text": [
            "Malignant\n",
            "count     211.000000\n",
            "mean     1419.458294\n",
            "std       597.966989\n",
            "min       508.100000\n",
            "25%       969.200000\n",
            "50%      1302.000000\n",
            "75%      1702.500000\n",
            "max      4254.000000\n",
            "Name: area_worst, dtype: float64\n",
            "\n",
            "Benign\n",
            "count     357.000000\n",
            "mean      558.899440\n",
            "std       163.601424\n",
            "min       185.200000\n",
            "25%       447.100000\n",
            "50%       547.400000\n",
            "75%       670.000000\n",
            "max      1210.000000\n",
            "Name: area_worst, dtype: float64\n"
          ],
          "name": "stdout"
        }
      ]
    },
    {
      "cell_type": "code",
      "metadata": {
        "id": "f5iKaC7jc6pV",
        "colab_type": "code",
        "colab": {
          "base_uri": "https://localhost:8080/",
          "height": 295
        },
        "outputId": "8328d79e-22f1-4a1c-bbfe-50f15ba9e9dd"
      },
      "source": [
        "f, (ax1, ax2) = plt.subplots(2, 1, sharex=True, figsize=(12,4))\n",
        "\n",
        "bins = 30\n",
        "\n",
        "ax1.hist(train_data.area_worst[train_data.diagnosis == \"M\"], bins = bins)\n",
        "ax1.set_title('Malignant')\n",
        "\n",
        "ax2.hist(train_data.area_worst[train_data.diagnosis == \"B\"], bins = bins)\n",
        "ax2.set_title('Benign')\n",
        "\n",
        "plt.xlabel('Area Worst')\n",
        "plt.ylabel('Number of Diagnosis')\n",
        "plt.yscale('log')\n",
        "plt.show()"
      ],
      "execution_count": 16,
      "outputs": [
        {
          "output_type": "display_data",
          "data": {
            "image/png": "[encoded data removed]",
            "text/plain": [
              "<Figure size 864x288 with 2 Axes>"
            ]
          },
          "metadata": {
            "tags": []
          }
        }
      ]
    },
    {
      "cell_type": "code",
      "metadata": {
        "id": "FnisLj9xc_Me",
        "colab_type": "code",
        "colab": {}
      },
      "source": [
        "#Select only the rest of the features.\n",
        "r_data = train_data.drop([idKey, areaMeanKey, areaWorstKey, diagnosisKey], axis=1)\n",
        "r_features = r_data.columns"
      ],
      "execution_count": 0,
      "outputs": []
    },
    {
      "cell_type": "code",
      "metadata": {
        "id": "xm6P4fFudItO",
        "colab_type": "code",
        "colab": {
          "base_uri": "https://localhost:8080/",
          "height": 187
        },
        "outputId": "10b93f79-e8c7-48a8-d117-c139c6f1aa2a"
      },
      "source": [
        "r_features"
      ],
      "execution_count": 18,
      "outputs": [
        {
          "output_type": "execute_result",
          "data": {
            "text/plain": [
              "Index(['radius_mean', 'texture_mean', 'perimeter_mean', 'smoothness_mean',\n",
              "       'compactness_mean', 'concavity_mean', 'concave points_mean',\n",
              "       'symmetry_mean', 'fractal_dimension_mean', 'radius_se', 'texture_se',\n",
              "       'perimeter_se', 'area_se', 'smoothness_se', 'compactness_se',\n",
              "       'concavity_se', 'concave points_se', 'symmetry_se',\n",
              "       'fractal_dimension_se', 'radius_worst', 'texture_worst',\n",
              "       'perimeter_worst', 'smoothness_worst', 'compactness_worst',\n",
              "       'concavity_worst', 'concave points_worst', 'symmetry_worst',\n",
              "       'fractal_dimension_worst'],\n",
              "      dtype='object')"
            ]
          },
          "metadata": {
            "tags": []
          },
          "execution_count": 18
        }
      ]
    },
    {
      "cell_type": "code",
      "metadata": {
        "id": "ONlAJTBFdLq3",
        "colab_type": "code",
        "colab": {}
      },
      "source": [
        "plt.figure(figsize=(12,28*4))\n",
        "gs = gridspec.GridSpec(28, 1)\n",
        "for i, cn in enumerate(r_data[r_features]):\n",
        "    ax = plt.subplot(gs[i])\n",
        "    sns.distplot(train_data[cn][train_data.diagnosis == \"M\"], bins=50)\n",
        "    sns.distplot(train_data[cn][train_data.diagnosis == \"B\"], bins=50)\n",
        "    ax.set_xlabel('')\n",
        "    ax.set_title('histogram of feature: ' + str(cn))\n",
        "plt.show()"
      ],
      "execution_count": 0,
      "outputs": []
    },
    {
      "cell_type": "code",
      "metadata": {
        "id": "pdlLs8RjdT7s",
        "colab_type": "code",
        "colab": {}
      },
      "source": [
        "train_data.loc[train_data.diagnosis == \"M\", 'diagnosis'] = 1\n",
        "train_data.loc[train_data.diagnosis == \"B\", 'diagnosis'] = 0"
      ],
      "execution_count": 0,
      "outputs": []
    },
    {
      "cell_type": "code",
      "metadata": {
        "id": "SnjUbNuZdapE",
        "colab_type": "code",
        "colab": {
          "base_uri": "https://localhost:8080/",
          "height": 241
        },
        "outputId": "2ec56ad1-f16e-4946-e8c9-8ea2ff8bae60"
      },
      "source": [
        "train_data.head()"
      ],
      "execution_count": 26,
      "outputs": [
        {
          "output_type": "execute_result",
          "data": {
            "text/html": [
              "<div>\n",
              "<style scoped>\n",
              "    .dataframe tbody tr th:only-of-type {\n",
              "        vertical-align: middle;\n",
              "    }\n",
              "\n",
              "    .dataframe tbody tr th {\n",
              "        vertical-align: top;\n",
              "    }\n",
              "\n",
              "    .dataframe thead th {\n",
              "        text-align: right;\n",
              "    }\n",
              "</style>\n",
              "<table border=\"1\" class=\"dataframe\">\n",
              "  <thead>\n",
              "    <tr style=\"text-align: right;\">\n",
              "      <th></th>\n",
              "      <th>id</th>\n",
              "      <th>malignant</th>\n",
              "      <th>radius_mean</th>\n",
              "      <th>texture_mean</th>\n",
              "      <th>perimeter_mean</th>\n",
              "      <th>area_mean</th>\n",
              "      <th>smoothness_mean</th>\n",
              "      <th>compactness_mean</th>\n",
              "      <th>concavity_mean</th>\n",
              "      <th>concave points_mean</th>\n",
              "      <th>symmetry_mean</th>\n",
              "      <th>fractal_dimension_mean</th>\n",
              "      <th>radius_se</th>\n",
              "      <th>texture_se</th>\n",
              "      <th>perimeter_se</th>\n",
              "      <th>area_se</th>\n",
              "      <th>smoothness_se</th>\n",
              "      <th>compactness_se</th>\n",
              "      <th>concavity_se</th>\n",
              "      <th>concave points_se</th>\n",
              "      <th>symmetry_se</th>\n",
              "      <th>fractal_dimension_se</th>\n",
              "      <th>radius_worst</th>\n",
              "      <th>texture_worst</th>\n",
              "      <th>perimeter_worst</th>\n",
              "      <th>area_worst</th>\n",
              "      <th>smoothness_worst</th>\n",
              "      <th>compactness_worst</th>\n",
              "      <th>concavity_worst</th>\n",
              "      <th>concave points_worst</th>\n",
              "      <th>symmetry_worst</th>\n",
              "      <th>fractal_dimension_worst</th>\n",
              "      <th>benign</th>\n",
              "    </tr>\n",
              "  </thead>\n",
              "  <tbody>\n",
              "    <tr>\n",
              "      <th>0</th>\n",
              "      <td>842517</td>\n",
              "      <td>1</td>\n",
              "      <td>20.57</td>\n",
              "      <td>17.77</td>\n",
              "      <td>132.90</td>\n",
              "      <td>1326.0</td>\n",
              "      <td>0.08474</td>\n",
              "      <td>0.07864</td>\n",
              "      <td>0.0869</td>\n",
              "      <td>0.07017</td>\n",
              "      <td>0.1812</td>\n",
              "      <td>0.05667</td>\n",
              "      <td>0.5435</td>\n",
              "      <td>0.7339</td>\n",
              "      <td>3.398</td>\n",
              "      <td>74.08</td>\n",
              "      <td>0.005225</td>\n",
              "      <td>0.01308</td>\n",
              "      <td>0.01860</td>\n",
              "      <td>0.01340</td>\n",
              "      <td>0.01389</td>\n",
              "      <td>0.003532</td>\n",
              "      <td>24.99</td>\n",
              "      <td>23.41</td>\n",
              "      <td>158.80</td>\n",
              "      <td>1956.0</td>\n",
              "      <td>0.1238</td>\n",
              "      <td>0.1866</td>\n",
              "      <td>0.2416</td>\n",
              "      <td>0.1860</td>\n",
              "      <td>0.2750</td>\n",
              "      <td>0.08902</td>\n",
              "      <td>0</td>\n",
              "    </tr>\n",
              "    <tr>\n",
              "      <th>1</th>\n",
              "      <td>84300903</td>\n",
              "      <td>1</td>\n",
              "      <td>19.69</td>\n",
              "      <td>21.25</td>\n",
              "      <td>130.00</td>\n",
              "      <td>1203.0</td>\n",
              "      <td>0.10960</td>\n",
              "      <td>0.15990</td>\n",
              "      <td>0.1974</td>\n",
              "      <td>0.12790</td>\n",
              "      <td>0.2069</td>\n",
              "      <td>0.05999</td>\n",
              "      <td>0.7456</td>\n",
              "      <td>0.7869</td>\n",
              "      <td>4.585</td>\n",
              "      <td>94.03</td>\n",
              "      <td>0.006150</td>\n",
              "      <td>0.04006</td>\n",
              "      <td>0.03832</td>\n",
              "      <td>0.02058</td>\n",
              "      <td>0.02250</td>\n",
              "      <td>0.004571</td>\n",
              "      <td>23.57</td>\n",
              "      <td>25.53</td>\n",
              "      <td>152.50</td>\n",
              "      <td>1709.0</td>\n",
              "      <td>0.1444</td>\n",
              "      <td>0.4245</td>\n",
              "      <td>0.4504</td>\n",
              "      <td>0.2430</td>\n",
              "      <td>0.3613</td>\n",
              "      <td>0.08758</td>\n",
              "      <td>0</td>\n",
              "    </tr>\n",
              "    <tr>\n",
              "      <th>2</th>\n",
              "      <td>84348301</td>\n",
              "      <td>1</td>\n",
              "      <td>11.42</td>\n",
              "      <td>20.38</td>\n",
              "      <td>77.58</td>\n",
              "      <td>386.1</td>\n",
              "      <td>0.14250</td>\n",
              "      <td>0.28390</td>\n",
              "      <td>0.2414</td>\n",
              "      <td>0.10520</td>\n",
              "      <td>0.2597</td>\n",
              "      <td>0.09744</td>\n",
              "      <td>0.4956</td>\n",
              "      <td>1.1560</td>\n",
              "      <td>3.445</td>\n",
              "      <td>27.23</td>\n",
              "      <td>0.009110</td>\n",
              "      <td>0.07458</td>\n",
              "      <td>0.05661</td>\n",
              "      <td>0.01867</td>\n",
              "      <td>0.05963</td>\n",
              "      <td>0.009208</td>\n",
              "      <td>14.91</td>\n",
              "      <td>26.50</td>\n",
              "      <td>98.87</td>\n",
              "      <td>567.7</td>\n",
              "      <td>0.2098</td>\n",
              "      <td>0.8663</td>\n",
              "      <td>0.6869</td>\n",
              "      <td>0.2575</td>\n",
              "      <td>0.6638</td>\n",
              "      <td>0.17300</td>\n",
              "      <td>0</td>\n",
              "    </tr>\n",
              "    <tr>\n",
              "      <th>3</th>\n",
              "      <td>84358402</td>\n",
              "      <td>1</td>\n",
              "      <td>20.29</td>\n",
              "      <td>14.34</td>\n",
              "      <td>135.10</td>\n",
              "      <td>1297.0</td>\n",
              "      <td>0.10030</td>\n",
              "      <td>0.13280</td>\n",
              "      <td>0.1980</td>\n",
              "      <td>0.10430</td>\n",
              "      <td>0.1809</td>\n",
              "      <td>0.05883</td>\n",
              "      <td>0.7572</td>\n",
              "      <td>0.7813</td>\n",
              "      <td>5.438</td>\n",
              "      <td>94.44</td>\n",
              "      <td>0.011490</td>\n",
              "      <td>0.02461</td>\n",
              "      <td>0.05688</td>\n",
              "      <td>0.01885</td>\n",
              "      <td>0.01756</td>\n",
              "      <td>0.005115</td>\n",
              "      <td>22.54</td>\n",
              "      <td>16.67</td>\n",
              "      <td>152.20</td>\n",
              "      <td>1575.0</td>\n",
              "      <td>0.1374</td>\n",
              "      <td>0.2050</td>\n",
              "      <td>0.4000</td>\n",
              "      <td>0.1625</td>\n",
              "      <td>0.2364</td>\n",
              "      <td>0.07678</td>\n",
              "      <td>0</td>\n",
              "    </tr>\n",
              "    <tr>\n",
              "      <th>4</th>\n",
              "      <td>843786</td>\n",
              "      <td>1</td>\n",
              "      <td>12.45</td>\n",
              "      <td>15.70</td>\n",
              "      <td>82.57</td>\n",
              "      <td>477.1</td>\n",
              "      <td>0.12780</td>\n",
              "      <td>0.17000</td>\n",
              "      <td>0.1578</td>\n",
              "      <td>0.08089</td>\n",
              "      <td>0.2087</td>\n",
              "      <td>0.07613</td>\n",
              "      <td>0.3345</td>\n",
              "      <td>0.8902</td>\n",
              "      <td>2.217</td>\n",
              "      <td>27.19</td>\n",
              "      <td>0.007510</td>\n",
              "      <td>0.03345</td>\n",
              "      <td>0.03672</td>\n",
              "      <td>0.01137</td>\n",
              "      <td>0.02165</td>\n",
              "      <td>0.005082</td>\n",
              "      <td>15.47</td>\n",
              "      <td>23.75</td>\n",
              "      <td>103.40</td>\n",
              "      <td>741.6</td>\n",
              "      <td>0.1791</td>\n",
              "      <td>0.5249</td>\n",
              "      <td>0.5355</td>\n",
              "      <td>0.1741</td>\n",
              "      <td>0.3985</td>\n",
              "      <td>0.12440</td>\n",
              "      <td>0</td>\n",
              "    </tr>\n",
              "  </tbody>\n",
              "</table>\n",
              "</div>"
            ],
            "text/plain": [
              "         id  malignant  ...  fractal_dimension_worst  benign\n",
              "0    842517          1  ...                  0.08902       0\n",
              "1  84300903          1  ...                  0.08758       0\n",
              "2  84348301          1  ...                  0.17300       0\n",
              "3  84358402          1  ...                  0.07678       0\n",
              "4    843786          1  ...                  0.12440       0\n",
              "\n",
              "[5 rows x 33 columns]"
            ]
          },
          "metadata": {
            "tags": []
          },
          "execution_count": 26
        }
      ]
    },
    {
      "cell_type": "code",
      "metadata": {
        "id": "Hbohdhpkdfe7",
        "colab_type": "code",
        "colab": {}
      },
      "source": [
        "#Create a new feature for benign (non-malignant) diagnosis.\n",
        "train_data.loc[train_data.diagnosis == 0, 'benign'] = 1\n",
        "train_data.loc[train_data.diagnosis == 1, 'benign'] = 0"
      ],
      "execution_count": 0,
      "outputs": []
    },
    {
      "cell_type": "code",
      "metadata": {
        "id": "g9zXoz2kd2f0",
        "colab_type": "code",
        "colab": {}
      },
      "source": [
        "train_data['benign'] = train_data.benign.astype(int)"
      ],
      "execution_count": 0,
      "outputs": []
    },
    {
      "cell_type": "code",
      "metadata": {
        "id": "QOKVZWuNeAyL",
        "colab_type": "code",
        "colab": {}
      },
      "source": [
        "train_data = train_data.rename(columns={'diagnosis': 'malignant'})"
      ],
      "execution_count": 0,
      "outputs": []
    },
    {
      "cell_type": "code",
      "metadata": {
        "id": "b4fak6x5ePZE",
        "colab_type": "code",
        "colab": {
          "base_uri": "https://localhost:8080/",
          "height": 136
        },
        "outputId": "68903769-c280-4d69-d2a9-818c0a2e166c"
      },
      "source": [
        "print(train_data.benign.value_counts())\n",
        "print()\n",
        "print(train_data.malignant.value_counts())"
      ],
      "execution_count": 27,
      "outputs": [
        {
          "output_type": "stream",
          "text": [
            "1    357\n",
            "0    211\n",
            "Name: benign, dtype: int64\n",
            "\n",
            "0    357\n",
            "1    211\n",
            "Name: malignant, dtype: int64\n"
          ],
          "name": "stdout"
        }
      ]
    },
    {
      "cell_type": "code",
      "metadata": {
        "id": "l65An4o1eRNe",
        "colab_type": "code",
        "colab": {
          "base_uri": "https://localhost:8080/",
          "height": 241
        },
        "outputId": "56346887-6f5c-42fc-e59a-a0e301c44829"
      },
      "source": [
        "pd.set_option(\"display.max_columns\",101)\n",
        "train_data.head()"
      ],
      "execution_count": 28,
      "outputs": [
        {
          "output_type": "execute_result",
          "data": {
            "text/html": [
              "<div>\n",
              "<style scoped>\n",
              "    .dataframe tbody tr th:only-of-type {\n",
              "        vertical-align: middle;\n",
              "    }\n",
              "\n",
              "    .dataframe tbody tr th {\n",
              "        vertical-align: top;\n",
              "    }\n",
              "\n",
              "    .dataframe thead th {\n",
              "        text-align: right;\n",
              "    }\n",
              "</style>\n",
              "<table border=\"1\" class=\"dataframe\">\n",
              "  <thead>\n",
              "    <tr style=\"text-align: right;\">\n",
              "      <th></th>\n",
              "      <th>id</th>\n",
              "      <th>malignant</th>\n",
              "      <th>radius_mean</th>\n",
              "      <th>texture_mean</th>\n",
              "      <th>perimeter_mean</th>\n",
              "      <th>area_mean</th>\n",
              "      <th>smoothness_mean</th>\n",
              "      <th>compactness_mean</th>\n",
              "      <th>concavity_mean</th>\n",
              "      <th>concave points_mean</th>\n",
              "      <th>symmetry_mean</th>\n",
              "      <th>fractal_dimension_mean</th>\n",
              "      <th>radius_se</th>\n",
              "      <th>texture_se</th>\n",
              "      <th>perimeter_se</th>\n",
              "      <th>area_se</th>\n",
              "      <th>smoothness_se</th>\n",
              "      <th>compactness_se</th>\n",
              "      <th>concavity_se</th>\n",
              "      <th>concave points_se</th>\n",
              "      <th>symmetry_se</th>\n",
              "      <th>fractal_dimension_se</th>\n",
              "      <th>radius_worst</th>\n",
              "      <th>texture_worst</th>\n",
              "      <th>perimeter_worst</th>\n",
              "      <th>area_worst</th>\n",
              "      <th>smoothness_worst</th>\n",
              "      <th>compactness_worst</th>\n",
              "      <th>concavity_worst</th>\n",
              "      <th>concave points_worst</th>\n",
              "      <th>symmetry_worst</th>\n",
              "      <th>fractal_dimension_worst</th>\n",
              "      <th>benign</th>\n",
              "    </tr>\n",
              "  </thead>\n",
              "  <tbody>\n",
              "    <tr>\n",
              "      <th>0</th>\n",
              "      <td>842517</td>\n",
              "      <td>1</td>\n",
              "      <td>20.57</td>\n",
              "      <td>17.77</td>\n",
              "      <td>132.90</td>\n",
              "      <td>1326.0</td>\n",
              "      <td>0.08474</td>\n",
              "      <td>0.07864</td>\n",
              "      <td>0.0869</td>\n",
              "      <td>0.07017</td>\n",
              "      <td>0.1812</td>\n",
              "      <td>0.05667</td>\n",
              "      <td>0.5435</td>\n",
              "      <td>0.7339</td>\n",
              "      <td>3.398</td>\n",
              "      <td>74.08</td>\n",
              "      <td>0.005225</td>\n",
              "      <td>0.01308</td>\n",
              "      <td>0.01860</td>\n",
              "      <td>0.01340</td>\n",
              "      <td>0.01389</td>\n",
              "      <td>0.003532</td>\n",
              "      <td>24.99</td>\n",
              "      <td>23.41</td>\n",
              "      <td>158.80</td>\n",
              "      <td>1956.0</td>\n",
              "      <td>0.1238</td>\n",
              "      <td>0.1866</td>\n",
              "      <td>0.2416</td>\n",
              "      <td>0.1860</td>\n",
              "      <td>0.2750</td>\n",
              "      <td>0.08902</td>\n",
              "      <td>0</td>\n",
              "    </tr>\n",
              "    <tr>\n",
              "      <th>1</th>\n",
              "      <td>84300903</td>\n",
              "      <td>1</td>\n",
              "      <td>19.69</td>\n",
              "      <td>21.25</td>\n",
              "      <td>130.00</td>\n",
              "      <td>1203.0</td>\n",
              "      <td>0.10960</td>\n",
              "      <td>0.15990</td>\n",
              "      <td>0.1974</td>\n",
              "      <td>0.12790</td>\n",
              "      <td>0.2069</td>\n",
              "      <td>0.05999</td>\n",
              "      <td>0.7456</td>\n",
              "      <td>0.7869</td>\n",
              "      <td>4.585</td>\n",
              "      <td>94.03</td>\n",
              "      <td>0.006150</td>\n",
              "      <td>0.04006</td>\n",
              "      <td>0.03832</td>\n",
              "      <td>0.02058</td>\n",
              "      <td>0.02250</td>\n",
              "      <td>0.004571</td>\n",
              "      <td>23.57</td>\n",
              "      <td>25.53</td>\n",
              "      <td>152.50</td>\n",
              "      <td>1709.0</td>\n",
              "      <td>0.1444</td>\n",
              "      <td>0.4245</td>\n",
              "      <td>0.4504</td>\n",
              "      <td>0.2430</td>\n",
              "      <td>0.3613</td>\n",
              "      <td>0.08758</td>\n",
              "      <td>0</td>\n",
              "    </tr>\n",
              "    <tr>\n",
              "      <th>2</th>\n",
              "      <td>84348301</td>\n",
              "      <td>1</td>\n",
              "      <td>11.42</td>\n",
              "      <td>20.38</td>\n",
              "      <td>77.58</td>\n",
              "      <td>386.1</td>\n",
              "      <td>0.14250</td>\n",
              "      <td>0.28390</td>\n",
              "      <td>0.2414</td>\n",
              "      <td>0.10520</td>\n",
              "      <td>0.2597</td>\n",
              "      <td>0.09744</td>\n",
              "      <td>0.4956</td>\n",
              "      <td>1.1560</td>\n",
              "      <td>3.445</td>\n",
              "      <td>27.23</td>\n",
              "      <td>0.009110</td>\n",
              "      <td>0.07458</td>\n",
              "      <td>0.05661</td>\n",
              "      <td>0.01867</td>\n",
              "      <td>0.05963</td>\n",
              "      <td>0.009208</td>\n",
              "      <td>14.91</td>\n",
              "      <td>26.50</td>\n",
              "      <td>98.87</td>\n",
              "      <td>567.7</td>\n",
              "      <td>0.2098</td>\n",
              "      <td>0.8663</td>\n",
              "      <td>0.6869</td>\n",
              "      <td>0.2575</td>\n",
              "      <td>0.6638</td>\n",
              "      <td>0.17300</td>\n",
              "      <td>0</td>\n",
              "    </tr>\n",
              "    <tr>\n",
              "      <th>3</th>\n",
              "      <td>84358402</td>\n",
              "      <td>1</td>\n",
              "      <td>20.29</td>\n",
              "      <td>14.34</td>\n",
              "      <td>135.10</td>\n",
              "      <td>1297.0</td>\n",
              "      <td>0.10030</td>\n",
              "      <td>0.13280</td>\n",
              "      <td>0.1980</td>\n",
              "      <td>0.10430</td>\n",
              "      <td>0.1809</td>\n",
              "      <td>0.05883</td>\n",
              "      <td>0.7572</td>\n",
              "      <td>0.7813</td>\n",
              "      <td>5.438</td>\n",
              "      <td>94.44</td>\n",
              "      <td>0.011490</td>\n",
              "      <td>0.02461</td>\n",
              "      <td>0.05688</td>\n",
              "      <td>0.01885</td>\n",
              "      <td>0.01756</td>\n",
              "      <td>0.005115</td>\n",
              "      <td>22.54</td>\n",
              "      <td>16.67</td>\n",
              "      <td>152.20</td>\n",
              "      <td>1575.0</td>\n",
              "      <td>0.1374</td>\n",
              "      <td>0.2050</td>\n",
              "      <td>0.4000</td>\n",
              "      <td>0.1625</td>\n",
              "      <td>0.2364</td>\n",
              "      <td>0.07678</td>\n",
              "      <td>0</td>\n",
              "    </tr>\n",
              "    <tr>\n",
              "      <th>4</th>\n",
              "      <td>843786</td>\n",
              "      <td>1</td>\n",
              "      <td>12.45</td>\n",
              "      <td>15.70</td>\n",
              "      <td>82.57</td>\n",
              "      <td>477.1</td>\n",
              "      <td>0.12780</td>\n",
              "      <td>0.17000</td>\n",
              "      <td>0.1578</td>\n",
              "      <td>0.08089</td>\n",
              "      <td>0.2087</td>\n",
              "      <td>0.07613</td>\n",
              "      <td>0.3345</td>\n",
              "      <td>0.8902</td>\n",
              "      <td>2.217</td>\n",
              "      <td>27.19</td>\n",
              "      <td>0.007510</td>\n",
              "      <td>0.03345</td>\n",
              "      <td>0.03672</td>\n",
              "      <td>0.01137</td>\n",
              "      <td>0.02165</td>\n",
              "      <td>0.005082</td>\n",
              "      <td>15.47</td>\n",
              "      <td>23.75</td>\n",
              "      <td>103.40</td>\n",
              "      <td>741.6</td>\n",
              "      <td>0.1791</td>\n",
              "      <td>0.5249</td>\n",
              "      <td>0.5355</td>\n",
              "      <td>0.1741</td>\n",
              "      <td>0.3985</td>\n",
              "      <td>0.12440</td>\n",
              "      <td>0</td>\n",
              "    </tr>\n",
              "  </tbody>\n",
              "</table>\n",
              "</div>"
            ],
            "text/plain": [
              "         id  malignant  radius_mean  texture_mean  perimeter_mean  area_mean  \\\n",
              "0    842517          1        20.57         17.77          132.90     1326.0   \n",
              "1  84300903          1        19.69         21.25          130.00     1203.0   \n",
              "2  84348301          1        11.42         20.38           77.58      386.1   \n",
              "3  84358402          1        20.29         14.34          135.10     1297.0   \n",
              "4    843786          1        12.45         15.70           82.57      477.1   \n",
              "\n",
              "   smoothness_mean  compactness_mean  concavity_mean  concave points_mean  \\\n",
              "0          0.08474           0.07864          0.0869              0.07017   \n",
              "1          0.10960           0.15990          0.1974              0.12790   \n",
              "2          0.14250           0.28390          0.2414              0.10520   \n",
              "3          0.10030           0.13280          0.1980              0.10430   \n",
              "4          0.12780           0.17000          0.1578              0.08089   \n",
              "\n",
              "   symmetry_mean  fractal_dimension_mean  radius_se  texture_se  perimeter_se  \\\n",
              "0         0.1812                 0.05667     0.5435      0.7339         3.398   \n",
              "1         0.2069                 0.05999     0.7456      0.7869         4.585   \n",
              "2         0.2597                 0.09744     0.4956      1.1560         3.445   \n",
              "3         0.1809                 0.05883     0.7572      0.7813         5.438   \n",
              "4         0.2087                 0.07613     0.3345      0.8902         2.217   \n",
              "\n",
              "   area_se  smoothness_se  compactness_se  concavity_se  concave points_se  \\\n",
              "0    74.08       0.005225         0.01308       0.01860            0.01340   \n",
              "1    94.03       0.006150         0.04006       0.03832            0.02058   \n",
              "2    27.23       0.009110         0.07458       0.05661            0.01867   \n",
              "3    94.44       0.011490         0.02461       0.05688            0.01885   \n",
              "4    27.19       0.007510         0.03345       0.03672            0.01137   \n",
              "\n",
              "   symmetry_se  fractal_dimension_se  radius_worst  texture_worst  \\\n",
              "0      0.01389              0.003532         24.99          23.41   \n",
              "1      0.02250              0.004571         23.57          25.53   \n",
              "2      0.05963              0.009208         14.91          26.50   \n",
              "3      0.01756              0.005115         22.54          16.67   \n",
              "4      0.02165              0.005082         15.47          23.75   \n",
              "\n",
              "   perimeter_worst  area_worst  smoothness_worst  compactness_worst  \\\n",
              "0           158.80      1956.0            0.1238             0.1866   \n",
              "1           152.50      1709.0            0.1444             0.4245   \n",
              "2            98.87       567.7            0.2098             0.8663   \n",
              "3           152.20      1575.0            0.1374             0.2050   \n",
              "4           103.40       741.6            0.1791             0.5249   \n",
              "\n",
              "   concavity_worst  concave points_worst  symmetry_worst  \\\n",
              "0           0.2416                0.1860          0.2750   \n",
              "1           0.4504                0.2430          0.3613   \n",
              "2           0.6869                0.2575          0.6638   \n",
              "3           0.4000                0.1625          0.2364   \n",
              "4           0.5355                0.1741          0.3985   \n",
              "\n",
              "   fractal_dimension_worst  benign  \n",
              "0                  0.08902       0  \n",
              "1                  0.08758       0  \n",
              "2                  0.17300       0  \n",
              "3                  0.07678       0  \n",
              "4                  0.12440       0  "
            ]
          },
          "metadata": {
            "tags": []
          },
          "execution_count": 28
        }
      ]
    },
    {
      "cell_type": "code",
      "metadata": {
        "id": "JQG58GTIec6r",
        "colab_type": "code",
        "colab": {}
      },
      "source": [
        "# Create dataframes of only Malignant and Benign diagnosis.\n",
        "Malignant = train_data[train_data.malignant == 1]\n",
        "Benign = train_data[train_data.benign == 1]"
      ],
      "execution_count": 0,
      "outputs": []
    },
    {
      "cell_type": "code",
      "metadata": {
        "id": "lYba-TY2eqTv",
        "colab_type": "code",
        "colab": {}
      },
      "source": [
        "# Set train_X equal to 80% of the malignant diagnosis.\n",
        "train_X = Malignant.sample(frac=0.8)\n",
        "count_Malignants = len(train_X)"
      ],
      "execution_count": 0,
      "outputs": []
    },
    {
      "cell_type": "code",
      "metadata": {
        "id": "phLJiobXe1f0",
        "colab_type": "code",
        "colab": {}
      },
      "source": [
        "# Add 80% of the benign diagnosis to train_X.\n",
        "train_X = pd.concat([train_X, Benign.sample(frac = 0.8)], axis = 0)"
      ],
      "execution_count": 0,
      "outputs": []
    },
    {
      "cell_type": "code",
      "metadata": {
        "id": "YpFFo5OVfAwt",
        "colab_type": "code",
        "colab": {}
      },
      "source": [
        "# test_X contains all the diagnostics not in train_X.\n",
        "test_X = train_data.loc[~train_data.index.isin(train_X.index)]"
      ],
      "execution_count": 0,
      "outputs": []
    },
    {
      "cell_type": "code",
      "metadata": {
        "id": "KOSkTSgxfMe9",
        "colab_type": "code",
        "colab": {}
      },
      "source": [
        "# Shuffle the dataframes so that the training is done in a random order.\n",
        "train_X = shuffle(train_X)\n",
        "test_X = shuffle(test_X)"
      ],
      "execution_count": 0,
      "outputs": []
    },
    {
      "cell_type": "code",
      "metadata": {
        "id": "_cvvqu6BfWXt",
        "colab_type": "code",
        "colab": {}
      },
      "source": [
        "# Add our target features to train_Y and test_Y\n",
        "\n",
        "train_Y = train_X.malignant\n",
        "train_Y = pd.concat([train_Y, train_X.benign], axis=1)\n"
      ],
      "execution_count": 0,
      "outputs": []
    },
    {
      "cell_type": "code",
      "metadata": {
        "id": "JOAE9rW5fiAl",
        "colab_type": "code",
        "colab": {}
      },
      "source": [
        "test_Y = test_X.malignant\n",
        "test_Y = pd.concat([test_Y, test_X.benign], axis=1)\n"
      ],
      "execution_count": 0,
      "outputs": []
    },
    {
      "cell_type": "code",
      "metadata": {
        "id": "1U42JnX7fnC1",
        "colab_type": "code",
        "colab": {}
      },
      "source": [
        "#Drop target features from train_X and test_X\n",
        "\n",
        "train_X = train_X.drop(['malignant','benign'], axis = 1)\n",
        "test_X = test_X.drop(['malignant','benign'], axis = 1)"
      ],
      "execution_count": 0,
      "outputs": []
    },
    {
      "cell_type": "code",
      "metadata": {
        "id": "oZgF-OEWfu7H",
        "colab_type": "code",
        "colab": {
          "base_uri": "https://localhost:8080/",
          "height": 85
        },
        "outputId": "944875b1-283f-40cc-9d1b-040281062429"
      },
      "source": [
        "# Check to ensure all of the training/testing dataframes are of the correct length\n",
        "\n",
        "print(len(train_X))\n",
        "print(len(train_Y))\n",
        "print(len(test_X))\n",
        "print(len(test_Y))"
      ],
      "execution_count": 37,
      "outputs": [
        {
          "output_type": "stream",
          "text": [
            "455\n",
            "455\n",
            "113\n",
            "113\n"
          ],
          "name": "stdout"
        }
      ]
    },
    {
      "cell_type": "code",
      "metadata": {
        "id": "3X0G25o8f5qI",
        "colab_type": "code",
        "colab": {}
      },
      "source": [
        "features = train_X.columns.values"
      ],
      "execution_count": 0,
      "outputs": []
    },
    {
      "cell_type": "code",
      "metadata": {
        "id": "ko1y80j-f7s2",
        "colab_type": "code",
        "colab": {
          "base_uri": "https://localhost:8080/",
          "height": 187
        },
        "outputId": "236ccc78-f109-4ca2-fc88-17c097eea819"
      },
      "source": [
        "features"
      ],
      "execution_count": 39,
      "outputs": [
        {
          "output_type": "execute_result",
          "data": {
            "text/plain": [
              "array(['id', 'radius_mean', 'texture_mean', 'perimeter_mean', 'area_mean',\n",
              "       'smoothness_mean', 'compactness_mean', 'concavity_mean',\n",
              "       'concave points_mean', 'symmetry_mean', 'fractal_dimension_mean',\n",
              "       'radius_se', 'texture_se', 'perimeter_se', 'area_se',\n",
              "       'smoothness_se', 'compactness_se', 'concavity_se',\n",
              "       'concave points_se', 'symmetry_se', 'fractal_dimension_se',\n",
              "       'radius_worst', 'texture_worst', 'perimeter_worst', 'area_worst',\n",
              "       'smoothness_worst', 'compactness_worst', 'concavity_worst',\n",
              "       'concave points_worst', 'symmetry_worst',\n",
              "       'fractal_dimension_worst'], dtype=object)"
            ]
          },
          "metadata": {
            "tags": []
          },
          "execution_count": 39
        }
      ]
    },
    {
      "cell_type": "code",
      "metadata": {
        "id": "LU8zy2KLgDQu",
        "colab_type": "code",
        "colab": {}
      },
      "source": [
        "#Transform each feature in features so that it has a mean of 0 and standard deviation of 1; This helps with training the softmax algorithm.\n",
        "\n",
        "for feature in features:\n",
        "    mean, std = train_data[feature].mean(), train_data[feature].std()\n",
        "    train_X.loc[:, feature] = (train_X[feature] - mean) / std\n",
        "    test_X.loc[:, feature] = (test_X[feature] - mean) / std"
      ],
      "execution_count": 0,
      "outputs": []
    },
    {
      "cell_type": "code",
      "metadata": {
        "id": "c_rhIsbcgIyh",
        "colab_type": "code",
        "colab": {}
      },
      "source": [
        "# Parameters\n",
        "\n",
        "learning_rate = 0.005\n",
        "training_dropout = 0.9\n",
        "display_step = 1\n",
        "training_epochs = 5\n",
        "batch_size = 100\n",
        "accuracy_history = [] \n",
        "cost_history = []\n",
        "valid_accuracy_history = [] \n",
        "valid_cost_history = [] \n"
      ],
      "execution_count": 0,
      "outputs": []
    },
    {
      "cell_type": "code",
      "metadata": {
        "id": "NnLnVfOSgP8v",
        "colab_type": "code",
        "colab": {}
      },
      "source": [
        "# Number of input nodes\n",
        "\n",
        "input_nodes = train_X.shape[1]\n",
        "# Number of labels (malignant and benign)\n",
        "\n",
        "num_labels = 2"
      ],
      "execution_count": 0,
      "outputs": []
    },
    {
      "cell_type": "code",
      "metadata": {
        "id": "sqg1nRINgZW5",
        "colab_type": "code",
        "colab": {
          "base_uri": "https://localhost:8080/",
          "height": 221
        },
        "outputId": "f32fbaff-b309-40d6-d6d9-b090b5d58040"
      },
      "source": [
        "# Split the testing data into validation and testing sets\n",
        "\n",
        "split = int(len(test_Y)/2)\n",
        "\n",
        "train_size = train_X.shape[0]\n",
        "n_samples = train_Y.shape[0]\n",
        "\n",
        "input_X = train_X.as_matrix()\n",
        "input_Y = train_Y.as_matrix()\n",
        "input_X_valid = test_X.as_matrix()[:split]\n",
        "input_Y_valid = test_Y.as_matrix()[:split]\n",
        "input_X_test = test_X.as_matrix()[split:]\n",
        "input_Y_test = test_Y.as_matrix()[split:]"
      ],
      "execution_count": 43,
      "outputs": [
        {
          "output_type": "stream",
          "text": [
            "/usr/local/lib/python3.6/dist-packages/ipykernel_launcher.py:7: FutureWarning: Method .as_matrix will be removed in a future version. Use .values instead.\n",
            "  import sys\n",
            "/usr/local/lib/python3.6/dist-packages/ipykernel_launcher.py:8: FutureWarning: Method .as_matrix will be removed in a future version. Use .values instead.\n",
            "  \n",
            "/usr/local/lib/python3.6/dist-packages/ipykernel_launcher.py:9: FutureWarning: Method .as_matrix will be removed in a future version. Use .values instead.\n",
            "  if __name__ == '__main__':\n",
            "/usr/local/lib/python3.6/dist-packages/ipykernel_launcher.py:10: FutureWarning: Method .as_matrix will be removed in a future version. Use .values instead.\n",
            "  # Remove the CWD from sys.path while we load stuff.\n",
            "/usr/local/lib/python3.6/dist-packages/ipykernel_launcher.py:11: FutureWarning: Method .as_matrix will be removed in a future version. Use .values instead.\n",
            "  # This is added back by InteractiveShellApp.init_path()\n",
            "/usr/local/lib/python3.6/dist-packages/ipykernel_launcher.py:12: FutureWarning: Method .as_matrix will be removed in a future version. Use .values instead.\n",
            "  if sys.path[0] == '':\n"
          ],
          "name": "stderr"
        }
      ]
    },
    {
      "cell_type": "code",
      "metadata": {
        "id": "HCBX1zaNgjEX",
        "colab_type": "code",
        "colab": {}
      },
      "source": [
        "def calculate_hidden_nodes(nodes):\n",
        "    return (((2 * nodes)/3) + num_labels)"
      ],
      "execution_count": 0,
      "outputs": []
    },
    {
      "cell_type": "code",
      "metadata": {
        "id": "HkYPojQpgnhe",
        "colab_type": "code",
        "colab": {
          "base_uri": "https://localhost:8080/",
          "height": 34
        },
        "outputId": "889413bd-d0af-4fe8-a030-3e350e950c95"
      },
      "source": [
        "#Number of nodes in each hidden layer\n",
        "\n",
        "hidden_nodes1 = round(calculate_hidden_nodes(input_nodes))\n",
        "hidden_nodes2 = round(calculate_hidden_nodes(hidden_nodes1))\n",
        "hidden_nodes3 = round(calculate_hidden_nodes(hidden_nodes2))\n",
        "print(input_nodes, hidden_nodes1, hidden_nodes2, hidden_nodes3)"
      ],
      "execution_count": 45,
      "outputs": [
        {
          "output_type": "stream",
          "text": [
            "31 23 17 13\n"
          ],
          "name": "stdout"
        }
      ]
    },
    {
      "cell_type": "code",
      "metadata": {
        "id": "JANnCzV0gu5-",
        "colab_type": "code",
        "colab": {}
      },
      "source": [
        "#Percent of nodes to keep during dropout.\n",
        "\n",
        "pkeep = tf.placeholder(tf.float32)"
      ],
      "execution_count": 0,
      "outputs": []
    },
    {
      "cell_type": "code",
      "metadata": {
        "id": "MQW8Ul_5g03f",
        "colab_type": "code",
        "colab": {}
      },
      "source": [
        "# Input\n",
        "\n",
        "x = tf.placeholder(tf.float32, [None, input_nodes])"
      ],
      "execution_count": 0,
      "outputs": []
    },
    {
      "cell_type": "code",
      "metadata": {
        "id": "sEZ8Ce92g5_w",
        "colab_type": "code",
        "colab": {}
      },
      "source": [
        "# Layer 1\n",
        "\n",
        "W1 = tf.Variable(tf.truncated_normal([input_nodes, hidden_nodes1], stddev = 0.1))\n",
        "b1 = tf.Variable(tf.zeros([hidden_nodes1]))\n",
        "y1 = tf.nn.relu(tf.matmul(x, W1) + b1)"
      ],
      "execution_count": 0,
      "outputs": []
    },
    {
      "cell_type": "code",
      "metadata": {
        "id": "CUVyUU8LhCAB",
        "colab_type": "code",
        "colab": {
          "base_uri": "https://localhost:8080/",
          "height": 68
        },
        "outputId": "7945e431-8dca-4359-e15e-4f52b4de1f41"
      },
      "source": [
        "# Layer 2\n",
        "\n",
        "W2 = tf.Variable(tf.truncated_normal([hidden_nodes1, hidden_nodes2], stddev = 0.1))\n",
        "b2 = tf.Variable(tf.zeros([hidden_nodes2]))\n",
        "y2 = tf.nn.relu(tf.matmul(y1, W2) + b2)\n",
        "# Layer 3\n",
        "\n",
        "W3 = tf.Variable(tf.truncated_normal([hidden_nodes2, hidden_nodes3], stddev = 0.1)) \n",
        "b3 = tf.Variable(tf.zeros([hidden_nodes3]))\n",
        "y3 = tf.nn.relu(tf.matmul(y2, W3) + b3)\n",
        "y3 = tf.nn.dropout(y3, pkeep)\n",
        "# Layer 4\n",
        "\n",
        "W4 = tf.Variable(tf.truncated_normal([hidden_nodes3, 2], stddev = 0.1)) \n",
        "b4 = tf.Variable(tf.zeros([2]))\n",
        "y4 = tf.nn.softmax(tf.matmul(y3, W4) + b4)\n",
        "#Output\n",
        "\n",
        "y = y4\n",
        "y_ = tf.placeholder(tf.float32, [None, num_labels]) \n",
        "# Minimize error using cross entropy\n",
        "\n",
        "cost = -tf.reduce_sum(y_ * tf.log(y))\n",
        "# AdamOptimizer\n",
        "\n",
        "optimizer = tf.train.AdamOptimizer(learning_rate).minimize(cost)\n",
        "# Test Model\n",
        "\n",
        "correct_prediction = tf.equal(tf.argmax(y,1), tf.argmax(y_,1))\n",
        "# Calculate accuracy\n",
        "\n",
        "accuracy = tf.reduce_mean(tf.cast(correct_prediction, tf.float32))\n",
        "# Initializing the variables\n",
        "\n",
        "init = tf.global_variables_initializer()"
      ],
      "execution_count": 50,
      "outputs": [
        {
          "output_type": "stream",
          "text": [
            "WARNING:tensorflow:From <ipython-input-50-ec9f3e5d8cba>:10: calling dropout (from tensorflow.python.ops.nn_ops) with keep_prob is deprecated and will be removed in a future version.\n",
            "Instructions for updating:\n",
            "Please use `rate` instead of `keep_prob`. Rate should be set to `rate = 1 - keep_prob`.\n"
          ],
          "name": "stdout"
        }
      ]
    },
    {
      "cell_type": "code",
      "metadata": {
        "id": "01l-4zO4hiNJ",
        "colab_type": "code",
        "colab": {
          "base_uri": "https://localhost:8080/",
          "height": 397
        },
        "outputId": "1c5bfe2b-e2dc-4fb1-cffd-9893372a5e01"
      },
      "source": [
        "# Launch the graph\n",
        "\n",
        "with tf.Session() as sess:\n",
        "    sess.run(tf.global_variables_initializer())\n",
        "    \n",
        "    for epoch in range(training_epochs): \n",
        "        for batch in range(int(n_samples/batch_size)):\n",
        "            batch_x = input_X[batch * batch_size : (1 + batch) * batch_size]\n",
        "            batch_y = input_Y[batch * batch_size : (1 + batch) * batch_size]\n",
        "\n",
        "            sess.run([optimizer], feed_dict={x: batch_x, \n",
        "                                             y_: batch_y,\n",
        "                                             pkeep: training_dropout})\n",
        "\n",
        "        # Display logs after every 10 epochs\n",
        "        if (epoch) % display_step == 0:\n",
        "            train_accuracy, newCost = sess.run([accuracy, cost], \n",
        "                                               feed_dict={x: input_X, y_: input_Y, \n",
        "                                                          pkeep: training_dropout})\n",
        "\n",
        "            valid_accuracy, valid_newCost = sess.run([accuracy, cost], \n",
        "                                                     feed_dict={x: input_X_valid, \n",
        "                                                                y_: input_Y_valid, pkeep: 1})\n",
        "\n",
        "            print (\"Epoch:\", epoch, \"Acc =\", \"{:.5f}\".format(train_accuracy), \n",
        "                   \"Cost =\", \"{:.5f}\".format(newCost), \n",
        "                   \"Valid_Acc =\", \"{:.5f}\".format(valid_accuracy), \n",
        "                   \"Valid_Cost = \", \"{:.5f}\".format(valid_newCost))\n",
        "            \n",
        "            # Record the results of the model\n",
        "            accuracy_history.append(train_accuracy)\n",
        "            cost_history.append(newCost)\n",
        "            valid_accuracy_history.append(valid_accuracy)\n",
        "            valid_cost_history.append(valid_newCost)\n",
        "            \n",
        "            # If the model does not improve after 15 logs, stop the training.\n",
        "            if valid_accuracy < max(valid_accuracy_history) and epoch > 100:\n",
        "                stop_early += 1\n",
        "                if stop_early == 15:\n",
        "                    break\n",
        "            else:\n",
        "                stop_early = 0\n",
        "            \n",
        "    print(\"Optimization Finished!\")\n",
        "    \n",
        "    # Plot the accuracy and cost summaries \n",
        "    f, (ax1, ax2) = plt.subplots(2, 1, sharex=True, figsize=(10,4))\n",
        "\n",
        "    ax1.plot(accuracy_history, color='b') # blue\n",
        "    ax1.plot(valid_accuracy_history, color='g') # green\n",
        "    ax1.set_title('Accuracy')\n",
        "\n",
        "    ax2.plot(cost_history, color='b')\n",
        "    ax2.plot(valid_cost_history, color='g')\n",
        "    ax2.set_title('Cost')\n",
        "\n",
        "    plt.xlabel('Epochs (x10)')\n",
        "    plt.show()"
      ],
      "execution_count": 51,
      "outputs": [
        {
          "output_type": "stream",
          "text": [
            "Epoch: 0 Acc = 0.62857 Cost = 305.24786 Valid_Acc = 0.58929 Valid_Cost =  37.83236\n",
            "Epoch: 1 Acc = 0.67473 Cost = 277.36234 Valid_Acc = 0.62500 Valid_Cost =  35.04304\n",
            "Epoch: 2 Acc = 0.85714 Cost = 219.54773 Valid_Acc = 0.87500 Valid_Cost =  29.08087\n",
            "Epoch: 3 Acc = 0.93187 Cost = 146.65115 Valid_Acc = 0.89286 Valid_Cost =  22.01895\n",
            "Epoch: 4 Acc = 0.94725 Cost = 98.11472 Valid_Acc = 0.91071 Valid_Cost =  18.01717\n",
            "Optimization Finished!\n"
          ],
          "name": "stdout"
        },
        {
          "output_type": "display_data",
          "data": {
            "image/png": "[encoded data removed]",
            "text/plain": [
              "<Figure size 720x288 with 2 Axes>"
            ]
          },
          "metadata": {
            "tags": []
          }
        }
      ]
    },
    {
      "cell_type": "markdown",
      "metadata": {
        "id": "7pAM2Vj5h76c",
        "colab_type": "text"
      },
      "source": [
        "## Conclusion\n",
        "After using the AdamOptimizer model with all of the features in our Neural Network, it gives a prediction accuracy of ~96% and a cross-validation score of ~96% for the test data set. This models performs reasonably well and I suppose that if we have created new features, we could have built a more useful neural network."
      ]
    }
  ]
}